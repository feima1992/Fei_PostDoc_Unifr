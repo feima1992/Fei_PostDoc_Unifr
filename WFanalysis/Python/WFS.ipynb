{
 "cells": [
  {
   "cell_type": "code",
   "execution_count": 4,
   "id": "06f09b74-abfb-493f-98ab-11e034d915b4",
   "metadata": {
    "scrolled": true
   },
   "outputs": [
    {
     "data": {
      "text/html": [
       "<div>\n",
       "<style scoped>\n",
       "    .dataframe tbody tr th:only-of-type {\n",
       "        vertical-align: middle;\n",
       "    }\n",
       "\n",
       "    .dataframe tbody tr th {\n",
       "        vertical-align: top;\n",
       "    }\n",
       "\n",
       "    .dataframe thead th {\n",
       "        text-align: right;\n",
       "    }\n",
       "</style>\n",
       "<table border=\"1\" class=\"dataframe\">\n",
       "  <thead>\n",
       "    <tr style=\"text-align: right;\">\n",
       "      <th></th>\n",
       "      <th>algo</th>\n",
       "      <th>item_name</th>\n",
       "      <th>input_movie_path</th>\n",
       "      <th>params</th>\n",
       "      <th>outputs</th>\n",
       "      <th>added_time</th>\n",
       "      <th>ran_time</th>\n",
       "      <th>algo_duration</th>\n",
       "      <th>comments</th>\n",
       "      <th>uuid</th>\n",
       "    </tr>\n",
       "  </thead>\n",
       "  <tbody>\n",
       "    <tr>\n",
       "      <th>0</th>\n",
       "      <td>mcorr</td>\n",
       "      <td>s2371_240404</td>\n",
       "      <td>s2371_240404.tif</td>\n",
       "      <td>{'main': {'gSig_filt': (5, 5), 'pw_rigid': Tru...</td>\n",
       "      <td>{'mean-projection-path': c1e67ac1-b5eb-4bf7-b0...</td>\n",
       "      <td>2024-05-23T21:48:13</td>\n",
       "      <td>2024-05-23T22:18:12</td>\n",
       "      <td>1794.63 sec</td>\n",
       "      <td>None</td>\n",
       "      <td>c1e67ac1-b5eb-4bf7-b042-b598559cf1df</td>\n",
       "    </tr>\n",
       "    <tr>\n",
       "      <th>1</th>\n",
       "      <td>mcorr</td>\n",
       "      <td>s2371_240405</td>\n",
       "      <td>s2371_240405.tif</td>\n",
       "      <td>{'main': {'gSig_filt': (5, 5), 'pw_rigid': Tru...</td>\n",
       "      <td>{'mean-projection-path': 061e8ff9-ecb6-4f01-9f...</td>\n",
       "      <td>2024-05-23T21:48:13</td>\n",
       "      <td>2024-05-24T00:04:54</td>\n",
       "      <td>1826.87 sec</td>\n",
       "      <td>None</td>\n",
       "      <td>061e8ff9-ecb6-4f01-9feb-7d4731474b7f</td>\n",
       "    </tr>\n",
       "    <tr>\n",
       "      <th>2</th>\n",
       "      <td>mcorr</td>\n",
       "      <td>s2371_240411</td>\n",
       "      <td>s2371_240411.tif</td>\n",
       "      <td>{'main': {'gSig_filt': (5, 5), 'pw_rigid': Tru...</td>\n",
       "      <td>{'mean-projection-path': 0974e975-ffb0-48f5-9b...</td>\n",
       "      <td>2024-05-23T21:48:13</td>\n",
       "      <td>2024-05-24T07:11:46</td>\n",
       "      <td>1639.91 sec</td>\n",
       "      <td>None</td>\n",
       "      <td>0974e975-ffb0-48f5-9b00-4c421f679d0c</td>\n",
       "    </tr>\n",
       "    <tr>\n",
       "      <th>3</th>\n",
       "      <td>mcorr</td>\n",
       "      <td>s2371_240412</td>\n",
       "      <td>s2371_240412.tif</td>\n",
       "      <td>{'main': {'gSig_filt': (5, 5), 'pw_rigid': Tru...</td>\n",
       "      <td>{'mean-projection-path': a60643ac-58e0-4593-9b...</td>\n",
       "      <td>2024-05-23T21:48:13</td>\n",
       "      <td>2024-05-23T23:34:27</td>\n",
       "      <td>815.24 sec</td>\n",
       "      <td>None</td>\n",
       "      <td>a60643ac-58e0-4593-9bee-79591ede74d5</td>\n",
       "    </tr>\n",
       "    <tr>\n",
       "      <th>4</th>\n",
       "      <td>mcorr</td>\n",
       "      <td>s2371_240417</td>\n",
       "      <td>s2371_240417.tif</td>\n",
       "      <td>{'main': {'gSig_filt': (5, 5), 'pw_rigid': Tru...</td>\n",
       "      <td>{'mean-projection-path': 2e1fb558-8c7d-4c97-a7...</td>\n",
       "      <td>2024-05-23T21:48:13</td>\n",
       "      <td>2024-05-24T02:36:43</td>\n",
       "      <td>1464.61 sec</td>\n",
       "      <td>None</td>\n",
       "      <td>2e1fb558-8c7d-4c97-a779-32bdea0f6d31</td>\n",
       "    </tr>\n",
       "    <tr>\n",
       "      <th>...</th>\n",
       "      <td>...</td>\n",
       "      <td>...</td>\n",
       "      <td>...</td>\n",
       "      <td>...</td>\n",
       "      <td>...</td>\n",
       "      <td>...</td>\n",
       "      <td>...</td>\n",
       "      <td>...</td>\n",
       "      <td>...</td>\n",
       "      <td>...</td>\n",
       "    </tr>\n",
       "    <tr>\n",
       "      <th>59</th>\n",
       "      <td>cnmfe</td>\n",
       "      <td>s2376_240411</td>\n",
       "      <td>957b2528-2ed2-480f-9bfd-314ceb9847b2\\957b2528-...</td>\n",
       "      <td>{'main': {'method_init': 'corr_pnr', 'K': None...</td>\n",
       "      <td>{'cnmf-hdf5-path': a7578cb6-d798-47a9-b52f-767...</td>\n",
       "      <td>2024-05-24T07:29:34</td>\n",
       "      <td>2024-05-25T01:04:30</td>\n",
       "      <td>1210.99 sec</td>\n",
       "      <td>None</td>\n",
       "      <td>a7578cb6-d798-47a9-b52f-7677d2b6cfbb</td>\n",
       "    </tr>\n",
       "    <tr>\n",
       "      <th>60</th>\n",
       "      <td>cnmfe</td>\n",
       "      <td>s2376_240412</td>\n",
       "      <td>4bbdb56b-5936-4e23-82ae-ca581a990d91\\4bbdb56b-...</td>\n",
       "      <td>{'main': {'method_init': 'corr_pnr', 'K': None...</td>\n",
       "      <td>{'cnmf-hdf5-path': 6b707939-0116-4381-83a7-cd9...</td>\n",
       "      <td>2024-05-24T07:29:34</td>\n",
       "      <td>2024-05-25T04:03:26</td>\n",
       "      <td>958.63 sec</td>\n",
       "      <td>None</td>\n",
       "      <td>6b707939-0116-4381-83a7-cd907e83132b</td>\n",
       "    </tr>\n",
       "    <tr>\n",
       "      <th>61</th>\n",
       "      <td>cnmfe</td>\n",
       "      <td>s2376_240417</td>\n",
       "      <td>aa9bea56-70bc-4515-9e65-6679bf7985aa\\aa9bea56-...</td>\n",
       "      <td>{'main': {'method_init': 'corr_pnr', 'K': None...</td>\n",
       "      <td>{'cnmf-hdf5-path': 1544e1e6-fbb7-4415-9f0e-cc5...</td>\n",
       "      <td>2024-05-24T07:29:34</td>\n",
       "      <td>2024-05-25T03:47:28</td>\n",
       "      <td>1704.65 sec</td>\n",
       "      <td>None</td>\n",
       "      <td>1544e1e6-fbb7-4415-9f0e-cc5a2965a5a7</td>\n",
       "    </tr>\n",
       "    <tr>\n",
       "      <th>62</th>\n",
       "      <td>cnmfe</td>\n",
       "      <td>s2376_240424</td>\n",
       "      <td>f09f4760-b4e4-487e-8940-1078d1cbbac4\\f09f4760-...</td>\n",
       "      <td>{'main': {'method_init': 'corr_pnr', 'K': None...</td>\n",
       "      <td>{'cnmf-hdf5-path': 0fa8b220-034f-463e-b9dd-820...</td>\n",
       "      <td>2024-05-24T07:29:34</td>\n",
       "      <td>2024-05-25T05:15:41</td>\n",
       "      <td>1256.77 sec</td>\n",
       "      <td>None</td>\n",
       "      <td>0fa8b220-034f-463e-b9dd-8204e1a4ca24</td>\n",
       "    </tr>\n",
       "    <tr>\n",
       "      <th>63</th>\n",
       "      <td>cnmfe</td>\n",
       "      <td>s2376_240425</td>\n",
       "      <td>800de025-e438-4b3e-994d-a1aec777058a\\800de025-...</td>\n",
       "      <td>{'main': {'method_init': 'corr_pnr', 'K': None...</td>\n",
       "      <td>{'cnmf-hdf5-path': 91856e1c-5571-4bb1-89cf-400...</td>\n",
       "      <td>2024-05-24T07:29:34</td>\n",
       "      <td>2024-05-25T00:31:27</td>\n",
       "      <td>983.68 sec</td>\n",
       "      <td>None</td>\n",
       "      <td>91856e1c-5571-4bb1-89cf-400ab8cb8ed1</td>\n",
       "    </tr>\n",
       "  </tbody>\n",
       "</table>\n",
       "<p>64 rows × 10 columns</p>\n",
       "</div>"
      ],
      "text/plain": [
       "     algo     item_name                                   input_movie_path  \\\n",
       "0   mcorr  s2371_240404                                   s2371_240404.tif   \n",
       "1   mcorr  s2371_240405                                   s2371_240405.tif   \n",
       "2   mcorr  s2371_240411                                   s2371_240411.tif   \n",
       "3   mcorr  s2371_240412                                   s2371_240412.tif   \n",
       "4   mcorr  s2371_240417                                   s2371_240417.tif   \n",
       "..    ...           ...                                                ...   \n",
       "59  cnmfe  s2376_240411  957b2528-2ed2-480f-9bfd-314ceb9847b2\\957b2528-...   \n",
       "60  cnmfe  s2376_240412  4bbdb56b-5936-4e23-82ae-ca581a990d91\\4bbdb56b-...   \n",
       "61  cnmfe  s2376_240417  aa9bea56-70bc-4515-9e65-6679bf7985aa\\aa9bea56-...   \n",
       "62  cnmfe  s2376_240424  f09f4760-b4e4-487e-8940-1078d1cbbac4\\f09f4760-...   \n",
       "63  cnmfe  s2376_240425  800de025-e438-4b3e-994d-a1aec777058a\\800de025-...   \n",
       "\n",
       "                                               params  \\\n",
       "0   {'main': {'gSig_filt': (5, 5), 'pw_rigid': Tru...   \n",
       "1   {'main': {'gSig_filt': (5, 5), 'pw_rigid': Tru...   \n",
       "2   {'main': {'gSig_filt': (5, 5), 'pw_rigid': Tru...   \n",
       "3   {'main': {'gSig_filt': (5, 5), 'pw_rigid': Tru...   \n",
       "4   {'main': {'gSig_filt': (5, 5), 'pw_rigid': Tru...   \n",
       "..                                                ...   \n",
       "59  {'main': {'method_init': 'corr_pnr', 'K': None...   \n",
       "60  {'main': {'method_init': 'corr_pnr', 'K': None...   \n",
       "61  {'main': {'method_init': 'corr_pnr', 'K': None...   \n",
       "62  {'main': {'method_init': 'corr_pnr', 'K': None...   \n",
       "63  {'main': {'method_init': 'corr_pnr', 'K': None...   \n",
       "\n",
       "                                              outputs           added_time  \\\n",
       "0   {'mean-projection-path': c1e67ac1-b5eb-4bf7-b0...  2024-05-23T21:48:13   \n",
       "1   {'mean-projection-path': 061e8ff9-ecb6-4f01-9f...  2024-05-23T21:48:13   \n",
       "2   {'mean-projection-path': 0974e975-ffb0-48f5-9b...  2024-05-23T21:48:13   \n",
       "3   {'mean-projection-path': a60643ac-58e0-4593-9b...  2024-05-23T21:48:13   \n",
       "4   {'mean-projection-path': 2e1fb558-8c7d-4c97-a7...  2024-05-23T21:48:13   \n",
       "..                                                ...                  ...   \n",
       "59  {'cnmf-hdf5-path': a7578cb6-d798-47a9-b52f-767...  2024-05-24T07:29:34   \n",
       "60  {'cnmf-hdf5-path': 6b707939-0116-4381-83a7-cd9...  2024-05-24T07:29:34   \n",
       "61  {'cnmf-hdf5-path': 1544e1e6-fbb7-4415-9f0e-cc5...  2024-05-24T07:29:34   \n",
       "62  {'cnmf-hdf5-path': 0fa8b220-034f-463e-b9dd-820...  2024-05-24T07:29:34   \n",
       "63  {'cnmf-hdf5-path': 91856e1c-5571-4bb1-89cf-400...  2024-05-24T07:29:34   \n",
       "\n",
       "               ran_time algo_duration comments  \\\n",
       "0   2024-05-23T22:18:12   1794.63 sec     None   \n",
       "1   2024-05-24T00:04:54   1826.87 sec     None   \n",
       "2   2024-05-24T07:11:46   1639.91 sec     None   \n",
       "3   2024-05-23T23:34:27    815.24 sec     None   \n",
       "4   2024-05-24T02:36:43   1464.61 sec     None   \n",
       "..                  ...           ...      ...   \n",
       "59  2024-05-25T01:04:30   1210.99 sec     None   \n",
       "60  2024-05-25T04:03:26    958.63 sec     None   \n",
       "61  2024-05-25T03:47:28   1704.65 sec     None   \n",
       "62  2024-05-25T05:15:41   1256.77 sec     None   \n",
       "63  2024-05-25T00:31:27    983.68 sec     None   \n",
       "\n",
       "                                    uuid  \n",
       "0   c1e67ac1-b5eb-4bf7-b042-b598559cf1df  \n",
       "1   061e8ff9-ecb6-4f01-9feb-7d4731474b7f  \n",
       "2   0974e975-ffb0-48f5-9b00-4c421f679d0c  \n",
       "3   a60643ac-58e0-4593-9bee-79591ede74d5  \n",
       "4   2e1fb558-8c7d-4c97-a779-32bdea0f6d31  \n",
       "..                                   ...  \n",
       "59  a7578cb6-d798-47a9-b52f-7677d2b6cfbb  \n",
       "60  6b707939-0116-4381-83a7-cd907e83132b  \n",
       "61  1544e1e6-fbb7-4415-9f0e-cc5a2965a5a7  \n",
       "62  0fa8b220-034f-463e-b9dd-8204e1a4ca24  \n",
       "63  91856e1c-5571-4bb1-89cf-400ab8cb8ed1  \n",
       "\n",
       "[64 rows x 10 columns]"
      ]
     },
     "execution_count": 4,
     "metadata": {},
     "output_type": "execute_result"
    }
   ],
   "source": [
    "from matplotlib import pyplot as plt\n",
    "import numpy as np\n",
    "import pandas as pd\n",
    "# import WFS class\n",
    "from WFS import WFS\n",
    "# create a WFS object\n",
    "wfs = WFS()\n",
    "# inspect the batch processing dataframe\n",
    "wfs.df"
   ]
  },
  {
   "cell_type": "code",
   "execution_count": 5,
   "id": "524625ea-c14d-4b8c-adfc-6c6560236afc",
   "metadata": {},
   "outputs": [
    {
     "name": "stdout",
     "output_type": "stream",
     "text": [
      "\n",
      "==============================================================\n",
      "Item s2371_240404 with algo mcorr already processed\n",
      "\n",
      "==============================================================\n",
      "Item s2371_240405 with algo mcorr already processed\n",
      "\n",
      "==============================================================\n",
      "Item s2371_240411 with algo mcorr already processed\n",
      "\n",
      "==============================================================\n",
      "Item s2371_240412 with algo mcorr already processed\n",
      "\n",
      "==============================================================\n",
      "Item s2371_240417 with algo mcorr already processed\n",
      "\n",
      "==============================================================\n",
      "Item s2371_240424 with algo mcorr already processed\n",
      "\n",
      "==============================================================\n",
      "Item s2371_240425 with algo mcorr already processed\n",
      "\n",
      "==============================================================\n",
      "Item s2372_240404 with algo mcorr already processed\n",
      "\n",
      "==============================================================\n",
      "Item s2372_240405 with algo mcorr already processed\n",
      "\n",
      "==============================================================\n",
      "Item s2372_240411 with algo mcorr already processed\n",
      "\n",
      "==============================================================\n",
      "Item s2372_240412 with algo mcorr already processed\n",
      "\n",
      "==============================================================\n",
      "Item s2372_240417 with algo mcorr already processed\n",
      "\n",
      "==============================================================\n",
      "Item s2372_240424 with algo mcorr already processed\n",
      "\n",
      "==============================================================\n",
      "Item s2372_240425 with algo mcorr already processed\n",
      "\n",
      "==============================================================\n",
      "Item s2374_240404 with algo mcorr already processed\n",
      "\n",
      "==============================================================\n",
      "Item s2374_240411 with algo mcorr already processed\n",
      "\n",
      "==============================================================\n",
      "Item s2374_240412 with algo mcorr already processed\n",
      "\n",
      "==============================================================\n",
      "Item s2374_240417 with algo mcorr already processed\n",
      "\n",
      "==============================================================\n",
      "Item s2374_240424 with algo mcorr already processed\n",
      "\n",
      "==============================================================\n",
      "Item s2375_240404 with algo mcorr already processed\n",
      "\n",
      "==============================================================\n",
      "Item s2375_240405 with algo mcorr already processed\n",
      "\n",
      "==============================================================\n",
      "Item s2375_240412 with algo mcorr already processed\n",
      "\n",
      "==============================================================\n",
      "Item s2375_240417 with algo mcorr already processed\n",
      "\n",
      "==============================================================\n",
      "Item s2375_240424 with algo mcorr already processed\n",
      "\n",
      "==============================================================\n",
      "Item s2375_240425 with algo mcorr already processed\n",
      "\n",
      "==============================================================\n",
      "Item s2376_240404 with algo mcorr already processed\n",
      "\n",
      "==============================================================\n",
      "Item s2376_240405 with algo mcorr already processed\n",
      "\n",
      "==============================================================\n",
      "Item s2376_240411 with algo mcorr already processed\n",
      "\n",
      "==============================================================\n",
      "Item s2376_240412 with algo mcorr already processed\n",
      "\n",
      "==============================================================\n",
      "Item s2376_240417 with algo mcorr already processed\n",
      "\n",
      "==============================================================\n",
      "Item s2376_240424 with algo mcorr already processed\n",
      "\n",
      "==============================================================\n",
      "Item s2376_240425 with algo mcorr already processed\n",
      "\n",
      "==============================================================\n",
      "Item s2371_240404 with algo cnmfe already processed\n",
      "\n",
      "==============================================================\n",
      "Item s2371_240405 with algo cnmfe already processed\n",
      "\n",
      "==============================================================\n",
      "Item s2371_240411 with algo cnmfe already processed\n",
      "\n",
      "==============================================================\n",
      "Item s2371_240412 with algo cnmfe already processed\n",
      "\n",
      "==============================================================\n",
      "Item s2371_240417 with algo cnmfe already processed\n",
      "\n",
      "==============================================================\n",
      "Item s2371_240424 with algo cnmfe already processed\n",
      "\n",
      "==============================================================\n",
      "Item s2371_240425 with algo cnmfe already processed\n",
      "\n",
      "==============================================================\n",
      "Item s2372_240404 with algo cnmfe already processed\n",
      "\n",
      "==============================================================\n",
      "Item s2372_240405 with algo cnmfe already processed\n",
      "\n",
      "==============================================================\n",
      "Item s2372_240411 with algo cnmfe already processed\n",
      "\n",
      "==============================================================\n",
      "Item s2372_240412 with algo cnmfe already processed\n",
      "\n",
      "==============================================================\n",
      "Item s2372_240417 with algo cnmfe already processed\n",
      "\n",
      "==============================================================\n",
      "Item s2372_240424 with algo cnmfe already processed\n",
      "\n",
      "==============================================================\n",
      "Item s2372_240425 with algo cnmfe already processed\n",
      "\n",
      "==============================================================\n",
      "Item s2374_240404 with algo cnmfe already processed\n",
      "\n",
      "==============================================================\n",
      "Item s2374_240411 with algo cnmfe already processed\n",
      "\n",
      "==============================================================\n",
      "Item s2374_240412 with algo cnmfe already processed\n",
      "\n",
      "==============================================================\n",
      "Item s2374_240417 with algo cnmfe already processed\n",
      "\n",
      "==============================================================\n",
      "Item s2374_240424 with algo cnmfe already processed\n",
      "\n",
      "==============================================================\n",
      "Item s2375_240404 with algo cnmfe already processed\n",
      "\n",
      "==============================================================\n",
      "Item s2375_240405 with algo cnmfe already processed\n",
      "\n",
      "==============================================================\n",
      "Item s2375_240412 with algo cnmfe already processed\n",
      "\n",
      "==============================================================\n",
      "Item s2375_240417 with algo cnmfe already processed\n",
      "\n",
      "==============================================================\n",
      "Item s2375_240424 with algo cnmfe already processed\n",
      "\n",
      "==============================================================\n",
      "Item s2375_240425 with algo cnmfe already processed\n",
      "\n",
      "==============================================================\n",
      "Item s2376_240404 with algo cnmfe already processed\n",
      "\n",
      "==============================================================\n",
      "Item s2376_240405 with algo cnmfe already processed\n",
      "\n",
      "==============================================================\n",
      "Item s2376_240411 with algo cnmfe already processed\n",
      "\n",
      "==============================================================\n",
      "Item s2376_240412 with algo cnmfe already processed\n",
      "\n",
      "==============================================================\n",
      "Item s2376_240417 with algo cnmfe already processed\n",
      "\n",
      "==============================================================\n",
      "Item s2376_240424 with algo cnmfe already processed\n",
      "\n",
      "==============================================================\n",
      "Item s2376_240425 with algo cnmfe already processed\n",
      "\n",
      "==============================================================\n",
      "Item s2371_240404 with algo mcorr already processed\n",
      "\n",
      "==============================================================\n",
      "Item s2371_240405 with algo mcorr already processed\n",
      "\n",
      "==============================================================\n",
      "Item s2371_240411 with algo mcorr already processed\n",
      "\n",
      "==============================================================\n",
      "Item s2371_240412 with algo mcorr already processed\n",
      "\n",
      "==============================================================\n",
      "Item s2371_240417 with algo mcorr already processed\n",
      "\n",
      "==============================================================\n",
      "Item s2371_240424 with algo mcorr already processed\n",
      "\n",
      "==============================================================\n",
      "Item s2371_240425 with algo mcorr already processed\n",
      "\n",
      "==============================================================\n",
      "Item s2372_240404 with algo mcorr already processed\n",
      "\n",
      "==============================================================\n",
      "Item s2372_240405 with algo mcorr already processed\n",
      "\n",
      "==============================================================\n",
      "Item s2372_240411 with algo mcorr already processed\n",
      "\n",
      "==============================================================\n",
      "Item s2372_240412 with algo mcorr already processed\n",
      "\n",
      "==============================================================\n",
      "Item s2372_240417 with algo mcorr already processed\n",
      "\n",
      "==============================================================\n",
      "Item s2372_240424 with algo mcorr already processed\n",
      "\n",
      "==============================================================\n",
      "Item s2372_240425 with algo mcorr already processed\n",
      "\n",
      "==============================================================\n",
      "Item s2374_240404 with algo mcorr already processed\n",
      "\n",
      "==============================================================\n",
      "Item s2374_240411 with algo mcorr already processed\n",
      "\n",
      "==============================================================\n",
      "Item s2374_240412 with algo mcorr already processed\n",
      "\n",
      "==============================================================\n",
      "Item s2374_240417 with algo mcorr already processed\n",
      "\n",
      "==============================================================\n",
      "Item s2374_240424 with algo mcorr already processed\n",
      "\n",
      "==============================================================\n",
      "Item s2375_240404 with algo mcorr already processed\n",
      "\n",
      "==============================================================\n",
      "Item s2375_240405 with algo mcorr already processed\n",
      "\n",
      "==============================================================\n",
      "Item s2375_240412 with algo mcorr already processed\n",
      "\n",
      "==============================================================\n",
      "Item s2375_240417 with algo mcorr already processed\n",
      "\n",
      "==============================================================\n",
      "Item s2375_240424 with algo mcorr already processed\n",
      "\n",
      "==============================================================\n",
      "Item s2375_240425 with algo mcorr already processed\n",
      "\n",
      "==============================================================\n",
      "Item s2376_240404 with algo mcorr already processed\n",
      "\n",
      "==============================================================\n",
      "Item s2376_240405 with algo mcorr already processed\n",
      "\n",
      "==============================================================\n",
      "Item s2376_240411 with algo mcorr already processed\n",
      "\n",
      "==============================================================\n",
      "Item s2376_240412 with algo mcorr already processed\n",
      "\n",
      "==============================================================\n",
      "Item s2376_240417 with algo mcorr already processed\n",
      "\n",
      "==============================================================\n",
      "Item s2376_240424 with algo mcorr already processed\n",
      "\n",
      "==============================================================\n",
      "Item s2376_240425 with algo mcorr already processed\n",
      "\n",
      "==============================================================\n",
      "Item s2371_240404 with algo cnmfe already processed\n",
      "\n",
      "==============================================================\n",
      "Item s2371_240405 with algo cnmfe already processed\n",
      "\n",
      "==============================================================\n",
      "Item s2371_240411 with algo cnmfe already processed\n",
      "\n",
      "==============================================================\n",
      "Item s2371_240412 with algo cnmfe already processed\n",
      "\n",
      "==============================================================\n",
      "Item s2371_240417 with algo cnmfe already processed\n",
      "\n",
      "==============================================================\n",
      "Item s2371_240424 with algo cnmfe already processed\n",
      "\n",
      "==============================================================\n",
      "Item s2371_240425 with algo cnmfe already processed\n",
      "\n",
      "==============================================================\n",
      "Item s2372_240404 with algo cnmfe already processed\n",
      "\n",
      "==============================================================\n",
      "Item s2372_240405 with algo cnmfe already processed\n",
      "\n",
      "==============================================================\n",
      "Item s2372_240411 with algo cnmfe already processed\n",
      "\n",
      "==============================================================\n",
      "Item s2372_240412 with algo cnmfe already processed\n",
      "\n",
      "==============================================================\n",
      "Item s2372_240417 with algo cnmfe already processed\n",
      "\n",
      "==============================================================\n",
      "Item s2372_240424 with algo cnmfe already processed\n",
      "\n",
      "==============================================================\n",
      "Item s2372_240425 with algo cnmfe already processed\n",
      "\n",
      "==============================================================\n",
      "Item s2374_240404 with algo cnmfe already processed\n",
      "\n",
      "==============================================================\n",
      "Item s2374_240411 with algo cnmfe already processed\n",
      "\n",
      "==============================================================\n",
      "Item s2374_240412 with algo cnmfe already processed\n",
      "\n",
      "==============================================================\n",
      "Item s2374_240417 with algo cnmfe already processed\n",
      "\n",
      "==============================================================\n",
      "Item s2374_240424 with algo cnmfe already processed\n",
      "\n",
      "==============================================================\n",
      "Item s2375_240404 with algo cnmfe already processed\n",
      "\n",
      "==============================================================\n",
      "Item s2375_240405 with algo cnmfe already processed\n",
      "\n",
      "==============================================================\n",
      "Item s2375_240412 with algo cnmfe already processed\n",
      "\n",
      "==============================================================\n",
      "Item s2375_240417 with algo cnmfe already processed\n",
      "\n",
      "==============================================================\n",
      "Item s2375_240424 with algo cnmfe already processed\n",
      "\n",
      "==============================================================\n",
      "Item s2375_240425 with algo cnmfe already processed\n",
      "\n",
      "==============================================================\n",
      "Item s2376_240404 with algo cnmfe already processed\n",
      "\n",
      "==============================================================\n",
      "Item s2376_240405 with algo cnmfe already processed\n",
      "\n",
      "==============================================================\n",
      "Item s2376_240411 with algo cnmfe already processed\n",
      "\n",
      "==============================================================\n",
      "Item s2376_240412 with algo cnmfe already processed\n",
      "\n",
      "==============================================================\n",
      "Item s2376_240417 with algo cnmfe already processed\n",
      "\n",
      "==============================================================\n",
      "Item s2376_240424 with algo cnmfe already processed\n",
      "\n",
      "==============================================================\n",
      "Item s2376_240425 with algo cnmfe already processed\n"
     ]
    },
    {
     "data": {
      "text/plain": [
       "<WFS.WFS at 0x2448d61f400>"
      ]
     },
     "execution_count": 5,
     "metadata": {},
     "output_type": "execute_result"
    }
   ],
   "source": [
    "wfs.RunAll()"
   ]
  },
  {
   "cell_type": "code",
   "execution_count": 6,
   "id": "2f51a895-c7b8-4048-9c24-9546646eff08",
   "metadata": {},
   "outputs": [
    {
     "name": "stdout",
     "output_type": "stream",
     "text": [
      "Evaluating items with params {'min_SNR': 3.0, 'rval_thr': 0.85, 'use_cnn': False, 'SNR_lowest': 0.5, 'rval_lowest': -1}\n",
      "\n",
      "Evaluating item s2371_240404\n",
      "Total number of components: 519, Good components: 500, Bad components: 19\n"
     ]
    },
    {
     "name": "stderr",
     "output_type": "stream",
     "text": [
      "WARNING:root:Background components not present. Results should not be interpreted as DF/F normalized but only as detrended.\n"
     ]
    },
    {
     "name": "stdout",
     "output_type": "stream",
     "text": [
      "\n",
      "Evaluating item s2371_240411\n",
      "Total number of components: 713, Good components: 706, Bad components: 7\n"
     ]
    },
    {
     "name": "stderr",
     "output_type": "stream",
     "text": [
      "WARNING:root:Background components not present. Results should not be interpreted as DF/F normalized but only as detrended.\n"
     ]
    },
    {
     "name": "stdout",
     "output_type": "stream",
     "text": [
      "\n",
      "Evaluating item s2371_240412\n",
      "Total number of components: 747, Good components: 728, Bad components: 19\n"
     ]
    },
    {
     "name": "stderr",
     "output_type": "stream",
     "text": [
      "WARNING:root:Background components not present. Results should not be interpreted as DF/F normalized but only as detrended.\n"
     ]
    },
    {
     "name": "stdout",
     "output_type": "stream",
     "text": [
      "\n",
      "Evaluating item s2371_240417\n",
      "Total number of components: 829, Good components: 820, Bad components: 9\n"
     ]
    },
    {
     "name": "stderr",
     "output_type": "stream",
     "text": [
      "WARNING:root:Background components not present. Results should not be interpreted as DF/F normalized but only as detrended.\n"
     ]
    },
    {
     "name": "stdout",
     "output_type": "stream",
     "text": [
      "\n",
      "Evaluating item s2371_240424\n",
      "Total number of components: 866, Good components: 837, Bad components: 29\n"
     ]
    },
    {
     "name": "stderr",
     "output_type": "stream",
     "text": [
      "WARNING:root:Background components not present. Results should not be interpreted as DF/F normalized but only as detrended.\n"
     ]
    },
    {
     "name": "stdout",
     "output_type": "stream",
     "text": [
      "\n",
      "Evaluating item s2371_240425\n",
      "Total number of components: 913, Good components: 894, Bad components: 19\n"
     ]
    },
    {
     "name": "stderr",
     "output_type": "stream",
     "text": [
      "WARNING:root:Background components not present. Results should not be interpreted as DF/F normalized but only as detrended.\n"
     ]
    },
    {
     "name": "stdout",
     "output_type": "stream",
     "text": [
      "\n",
      "Evaluating item s2372_240404\n",
      "Total number of components: 625, Good components: 587, Bad components: 38\n"
     ]
    },
    {
     "name": "stderr",
     "output_type": "stream",
     "text": [
      "WARNING:root:Background components not present. Results should not be interpreted as DF/F normalized but only as detrended.\n"
     ]
    },
    {
     "name": "stdout",
     "output_type": "stream",
     "text": [
      "\n",
      "Evaluating item s2372_240405\n",
      "Total number of components: 224, Good components: 218, Bad components: 6\n"
     ]
    },
    {
     "name": "stderr",
     "output_type": "stream",
     "text": [
      "WARNING:root:Background components not present. Results should not be interpreted as DF/F normalized but only as detrended.\n"
     ]
    },
    {
     "name": "stdout",
     "output_type": "stream",
     "text": [
      "\n",
      "Evaluating item s2372_240411\n",
      "Total number of components: 211, Good components: 205, Bad components: 6\n"
     ]
    },
    {
     "name": "stderr",
     "output_type": "stream",
     "text": [
      "WARNING:root:Background components not present. Results should not be interpreted as DF/F normalized but only as detrended.\n"
     ]
    },
    {
     "name": "stdout",
     "output_type": "stream",
     "text": [
      "\n",
      "Evaluating item s2372_240412\n",
      "Total number of components: 128, Good components: 124, Bad components: 4\n"
     ]
    },
    {
     "name": "stderr",
     "output_type": "stream",
     "text": [
      "WARNING:root:Background components not present. Results should not be interpreted as DF/F normalized but only as detrended.\n"
     ]
    },
    {
     "name": "stdout",
     "output_type": "stream",
     "text": [
      "\n",
      "Evaluating item s2372_240417\n",
      "Total number of components: 218, Good components: 208, Bad components: 10\n"
     ]
    },
    {
     "name": "stderr",
     "output_type": "stream",
     "text": [
      "WARNING:root:Background components not present. Results should not be interpreted as DF/F normalized but only as detrended.\n"
     ]
    },
    {
     "name": "stdout",
     "output_type": "stream",
     "text": [
      "\n",
      "Evaluating item s2372_240424\n",
      "Total number of components: 238, Good components: 216, Bad components: 22\n"
     ]
    },
    {
     "name": "stderr",
     "output_type": "stream",
     "text": [
      "WARNING:root:Background components not present. Results should not be interpreted as DF/F normalized but only as detrended.\n"
     ]
    },
    {
     "name": "stdout",
     "output_type": "stream",
     "text": [
      "\n",
      "Evaluating item s2372_240425\n",
      "Total number of components: 325, Good components: 316, Bad components: 9\n"
     ]
    },
    {
     "name": "stderr",
     "output_type": "stream",
     "text": [
      "WARNING:root:Background components not present. Results should not be interpreted as DF/F normalized but only as detrended.\n"
     ]
    },
    {
     "name": "stdout",
     "output_type": "stream",
     "text": [
      "\n",
      "Evaluating item s2374_240404\n",
      "Total number of components: 149, Good components: 133, Bad components: 16\n"
     ]
    },
    {
     "name": "stderr",
     "output_type": "stream",
     "text": [
      "WARNING:root:Background components not present. Results should not be interpreted as DF/F normalized but only as detrended.\n"
     ]
    },
    {
     "name": "stdout",
     "output_type": "stream",
     "text": [
      "\n",
      "Evaluating item s2374_240411\n",
      "Total number of components: 392, Good components: 372, Bad components: 20\n"
     ]
    },
    {
     "name": "stderr",
     "output_type": "stream",
     "text": [
      "WARNING:root:Background components not present. Results should not be interpreted as DF/F normalized but only as detrended.\n"
     ]
    },
    {
     "name": "stdout",
     "output_type": "stream",
     "text": [
      "\n",
      "Evaluating item s2374_240412\n",
      "Total number of components: 270, Good components: 260, Bad components: 10\n"
     ]
    },
    {
     "name": "stderr",
     "output_type": "stream",
     "text": [
      "WARNING:root:Background components not present. Results should not be interpreted as DF/F normalized but only as detrended.\n"
     ]
    },
    {
     "name": "stdout",
     "output_type": "stream",
     "text": [
      "\n",
      "Evaluating item s2374_240417\n",
      "Total number of components: 348, Good components: 310, Bad components: 38\n"
     ]
    },
    {
     "name": "stderr",
     "output_type": "stream",
     "text": [
      "WARNING:root:Background components not present. Results should not be interpreted as DF/F normalized but only as detrended.\n"
     ]
    },
    {
     "name": "stdout",
     "output_type": "stream",
     "text": [
      "\n",
      "Evaluating item s2374_240424\n",
      "Total number of components: 221, Good components: 188, Bad components: 33\n"
     ]
    },
    {
     "name": "stderr",
     "output_type": "stream",
     "text": [
      "WARNING:root:Background components not present. Results should not be interpreted as DF/F normalized but only as detrended.\n"
     ]
    },
    {
     "name": "stdout",
     "output_type": "stream",
     "text": [
      "\n",
      "Evaluating item s2375_240404\n",
      "Total number of components: 2, Good components: 2, Bad components: 0\n"
     ]
    },
    {
     "name": "stderr",
     "output_type": "stream",
     "text": [
      "WARNING:root:Background components not present. Results should not be interpreted as DF/F normalized but only as detrended.\n"
     ]
    },
    {
     "name": "stdout",
     "output_type": "stream",
     "text": [
      "\n",
      "Evaluating item s2375_240405\n",
      "Total number of components: 19, Good components: 17, Bad components: 2\n"
     ]
    },
    {
     "name": "stderr",
     "output_type": "stream",
     "text": [
      "WARNING:root:Background components not present. Results should not be interpreted as DF/F normalized but only as detrended.\n"
     ]
    },
    {
     "name": "stdout",
     "output_type": "stream",
     "text": [
      "\n",
      "Evaluating item s2375_240412\n",
      "Total number of components: 37, Good components: 34, Bad components: 3\n"
     ]
    },
    {
     "name": "stderr",
     "output_type": "stream",
     "text": [
      "WARNING:root:Background components not present. Results should not be interpreted as DF/F normalized but only as detrended.\n"
     ]
    },
    {
     "name": "stdout",
     "output_type": "stream",
     "text": [
      "\n",
      "Evaluating item s2375_240417\n",
      "Total number of components: 4, Good components: 2, Bad components: 2\n"
     ]
    },
    {
     "name": "stderr",
     "output_type": "stream",
     "text": [
      "WARNING:root:Background components not present. Results should not be interpreted as DF/F normalized but only as detrended.\n"
     ]
    },
    {
     "name": "stdout",
     "output_type": "stream",
     "text": [
      "\n",
      "Evaluating item s2375_240424\n",
      "Total number of components: 3, Good components: 3, Bad components: 0\n"
     ]
    },
    {
     "name": "stderr",
     "output_type": "stream",
     "text": [
      "WARNING:root:Background components not present. Results should not be interpreted as DF/F normalized but only as detrended.\n"
     ]
    },
    {
     "name": "stdout",
     "output_type": "stream",
     "text": [
      "\n",
      "Evaluating item s2375_240425\n",
      "Total number of components: 43, Good components: 37, Bad components: 6\n"
     ]
    },
    {
     "name": "stderr",
     "output_type": "stream",
     "text": [
      "WARNING:root:Background components not present. Results should not be interpreted as DF/F normalized but only as detrended.\n"
     ]
    },
    {
     "name": "stdout",
     "output_type": "stream",
     "text": [
      "\n",
      "Evaluating item s2376_240404\n",
      "Total number of components: 445, Good components: 351, Bad components: 94\n"
     ]
    },
    {
     "name": "stderr",
     "output_type": "stream",
     "text": [
      "WARNING:root:Background components not present. Results should not be interpreted as DF/F normalized but only as detrended.\n"
     ]
    },
    {
     "name": "stdout",
     "output_type": "stream",
     "text": [
      "\n",
      "Evaluating item s2376_240405\n",
      "Total number of components: 523, Good components: 464, Bad components: 59\n"
     ]
    },
    {
     "name": "stderr",
     "output_type": "stream",
     "text": [
      "WARNING:root:Background components not present. Results should not be interpreted as DF/F normalized but only as detrended.\n"
     ]
    },
    {
     "name": "stdout",
     "output_type": "stream",
     "text": [
      "\n",
      "Evaluating item s2376_240411\n",
      "Total number of components: 605, Good components: 563, Bad components: 42\n"
     ]
    },
    {
     "name": "stderr",
     "output_type": "stream",
     "text": [
      "WARNING:root:Background components not present. Results should not be interpreted as DF/F normalized but only as detrended.\n"
     ]
    },
    {
     "name": "stdout",
     "output_type": "stream",
     "text": [
      "\n",
      "Evaluating item s2376_240412\n",
      "Total number of components: 424, Good components: 377, Bad components: 47\n"
     ]
    },
    {
     "name": "stderr",
     "output_type": "stream",
     "text": [
      "WARNING:root:Background components not present. Results should not be interpreted as DF/F normalized but only as detrended.\n"
     ]
    },
    {
     "name": "stdout",
     "output_type": "stream",
     "text": [
      "\n",
      "Evaluating item s2376_240417\n",
      "Total number of components: 624, Good components: 591, Bad components: 33\n"
     ]
    },
    {
     "name": "stderr",
     "output_type": "stream",
     "text": [
      "WARNING:root:Background components not present. Results should not be interpreted as DF/F normalized but only as detrended.\n"
     ]
    },
    {
     "name": "stdout",
     "output_type": "stream",
     "text": [
      "\n",
      "Evaluating item s2376_240424\n",
      "Total number of components: 333, Good components: 296, Bad components: 37\n"
     ]
    },
    {
     "name": "stderr",
     "output_type": "stream",
     "text": [
      "WARNING:root:Background components not present. Results should not be interpreted as DF/F normalized but only as detrended.\n"
     ]
    },
    {
     "name": "stdout",
     "output_type": "stream",
     "text": [
      "\n",
      "Evaluating item s2376_240425\n",
      "Total number of components: 420, Good components: 385, Bad components: 35\n"
     ]
    },
    {
     "name": "stderr",
     "output_type": "stream",
     "text": [
      "WARNING:root:Background components not present. Results should not be interpreted as DF/F normalized but only as detrended.\n"
     ]
    },
    {
     "data": {
      "text/plain": [
       "<WFS.WFS at 0x2448d61f400>"
      ]
     },
     "execution_count": 6,
     "metadata": {},
     "output_type": "execute_result"
    }
   ],
   "source": [
    "# run the batch analysis\n",
    "wfs.Eval()"
   ]
  },
  {
   "cell_type": "code",
   "execution_count": 7,
   "id": "df3c77bf-a295-4bc8-a399-072a1221645b",
   "metadata": {},
   "outputs": [
    {
     "name": "stdout",
     "output_type": "stream",
     "text": [
      "Exporting coordinates and traces for item s2371_240404\n",
      "Coordinates and traces exported to D:\\Data\\SingleCellData\\s2371_240404_coordAndTrace.mat\n",
      "Exporting coordinates and traces for item s2371_240411\n",
      "Coordinates and traces exported to D:\\Data\\SingleCellData\\s2371_240411_coordAndTrace.mat\n",
      "Exporting coordinates and traces for item s2371_240412\n",
      "Coordinates and traces exported to D:\\Data\\SingleCellData\\s2371_240412_coordAndTrace.mat\n",
      "Exporting coordinates and traces for item s2371_240417\n",
      "Coordinates and traces exported to D:\\Data\\SingleCellData\\s2371_240417_coordAndTrace.mat\n",
      "Exporting coordinates and traces for item s2371_240424\n",
      "Coordinates and traces exported to D:\\Data\\SingleCellData\\s2371_240424_coordAndTrace.mat\n",
      "Exporting coordinates and traces for item s2371_240425\n",
      "Coordinates and traces exported to D:\\Data\\SingleCellData\\s2371_240425_coordAndTrace.mat\n",
      "Exporting coordinates and traces for item s2372_240404\n",
      "Coordinates and traces exported to D:\\Data\\SingleCellData\\s2372_240404_coordAndTrace.mat\n",
      "Exporting coordinates and traces for item s2372_240405\n",
      "Coordinates and traces exported to D:\\Data\\SingleCellData\\s2372_240405_coordAndTrace.mat\n",
      "Exporting coordinates and traces for item s2372_240411\n",
      "Coordinates and traces exported to D:\\Data\\SingleCellData\\s2372_240411_coordAndTrace.mat\n",
      "Exporting coordinates and traces for item s2372_240412\n",
      "Coordinates and traces exported to D:\\Data\\SingleCellData\\s2372_240412_coordAndTrace.mat\n",
      "Exporting coordinates and traces for item s2372_240417\n",
      "Coordinates and traces exported to D:\\Data\\SingleCellData\\s2372_240417_coordAndTrace.mat\n",
      "Exporting coordinates and traces for item s2372_240424\n",
      "Coordinates and traces exported to D:\\Data\\SingleCellData\\s2372_240424_coordAndTrace.mat\n",
      "Exporting coordinates and traces for item s2372_240425\n",
      "Coordinates and traces exported to D:\\Data\\SingleCellData\\s2372_240425_coordAndTrace.mat\n",
      "Exporting coordinates and traces for item s2374_240404\n",
      "Coordinates and traces exported to D:\\Data\\SingleCellData\\s2374_240404_coordAndTrace.mat\n",
      "Exporting coordinates and traces for item s2374_240411\n",
      "Coordinates and traces exported to D:\\Data\\SingleCellData\\s2374_240411_coordAndTrace.mat\n",
      "Exporting coordinates and traces for item s2374_240412\n",
      "Coordinates and traces exported to D:\\Data\\SingleCellData\\s2374_240412_coordAndTrace.mat\n",
      "Exporting coordinates and traces for item s2374_240417\n",
      "Coordinates and traces exported to D:\\Data\\SingleCellData\\s2374_240417_coordAndTrace.mat\n",
      "Exporting coordinates and traces for item s2374_240424\n",
      "Coordinates and traces exported to D:\\Data\\SingleCellData\\s2374_240424_coordAndTrace.mat\n",
      "Exporting coordinates and traces for item s2375_240404\n",
      "Coordinates and traces exported to D:\\Data\\SingleCellData\\s2375_240404_coordAndTrace.mat\n",
      "Exporting coordinates and traces for item s2375_240405\n",
      "Coordinates and traces exported to D:\\Data\\SingleCellData\\s2375_240405_coordAndTrace.mat\n",
      "Exporting coordinates and traces for item s2375_240412\n",
      "Coordinates and traces exported to D:\\Data\\SingleCellData\\s2375_240412_coordAndTrace.mat\n",
      "Exporting coordinates and traces for item s2375_240417\n",
      "Coordinates and traces exported to D:\\Data\\SingleCellData\\s2375_240417_coordAndTrace.mat\n",
      "Exporting coordinates and traces for item s2375_240424\n",
      "Coordinates and traces exported to D:\\Data\\SingleCellData\\s2375_240424_coordAndTrace.mat\n",
      "Exporting coordinates and traces for item s2375_240425\n",
      "Coordinates and traces exported to D:\\Data\\SingleCellData\\s2375_240425_coordAndTrace.mat\n",
      "Exporting coordinates and traces for item s2376_240404\n",
      "Coordinates and traces exported to D:\\Data\\SingleCellData\\s2376_240404_coordAndTrace.mat\n",
      "Exporting coordinates and traces for item s2376_240405\n",
      "Coordinates and traces exported to D:\\Data\\SingleCellData\\s2376_240405_coordAndTrace.mat\n",
      "Exporting coordinates and traces for item s2376_240411\n",
      "Coordinates and traces exported to D:\\Data\\SingleCellData\\s2376_240411_coordAndTrace.mat\n",
      "Exporting coordinates and traces for item s2376_240412\n",
      "Coordinates and traces exported to D:\\Data\\SingleCellData\\s2376_240412_coordAndTrace.mat\n",
      "Exporting coordinates and traces for item s2376_240417\n",
      "Coordinates and traces exported to D:\\Data\\SingleCellData\\s2376_240417_coordAndTrace.mat\n",
      "Exporting coordinates and traces for item s2376_240424\n",
      "Coordinates and traces exported to D:\\Data\\SingleCellData\\s2376_240424_coordAndTrace.mat\n",
      "Exporting coordinates and traces for item s2376_240425\n",
      "Coordinates and traces exported to D:\\Data\\SingleCellData\\s2376_240425_coordAndTrace.mat\n"
     ]
    }
   ],
   "source": [
    "# export the component traces and coordinates\n",
    "wfs.ExportCoordAndTrace()"
   ]
  },
  {
   "cell_type": "code",
   "execution_count": null,
   "id": "4668586a-5083-4d26-a0bb-e868e084c626",
   "metadata": {},
   "outputs": [],
   "source": []
  }
 ],
 "metadata": {
  "kernelspec": {
   "display_name": "Python 3 (ipykernel)",
   "language": "python",
   "name": "python3"
  },
  "language_info": {
   "codemirror_mode": {
    "name": "ipython",
    "version": 3
   },
   "file_extension": ".py",
   "mimetype": "text/x-python",
   "name": "python",
   "nbconvert_exporter": "python",
   "pygments_lexer": "ipython3",
   "version": "3.10.8"
  }
 },
 "nbformat": 4,
 "nbformat_minor": 5
}
