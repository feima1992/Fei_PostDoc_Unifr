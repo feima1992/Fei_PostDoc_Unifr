{
 "cells": [
  {
   "cell_type": "markdown",
   "id": "e1b31c90-12ed-4f8c-9044-94a41bff36fd",
   "metadata": {},
   "source": [
    "## Import packages"
   ]
  },
  {
   "cell_type": "code",
   "execution_count": 1,
   "id": "33f556ae-83fd-4d59-b336-6c714ec164f5",
   "metadata": {},
   "outputs": [],
   "source": [
    "from copy import deepcopy\n",
    "import os\n",
    "\n",
    "import numpy as np\n",
    "import pandas as pd\n",
    "import tifffile\n",
    "from ipywidgets import IntSlider, VBox\n",
    "import fastplotlib as fpl\n",
    "\n",
    "from caiman.motion_correction import high_pass_filter_space\n",
    "from caiman.summary_images import correlation_pnr\n",
    "\n",
    "import mesmerize_core as mc\n",
    "from mesmerize_core.arrays import LazyTiff\n",
    "from mesmerize_viz import *\n",
    "\n",
    "from mesmerize_core.caiman_extensions.cnmf import cnmf_cache\n",
    "\n",
    "if os.name == \"nt\":\n",
    "    # disable the cache on windows, this will be automatic in a future version\n",
    "    cnmf_cache.set_maxsize(0)\n",
    "    \n",
    "pd.options.display.max_colwidth = 120"
   ]
  },
  {
   "cell_type": "markdown",
   "id": "4441f236-5d19-4380-b0af-666a39a5ceef",
   "metadata": {},
   "source": [
    "## Load dataframe"
   ]
  },
  {
   "cell_type": "code",
   "execution_count": 2,
   "id": "7f3e33b7-57e5-472b-a10c-78e44c02de8d",
   "metadata": {
    "scrolled": true
   },
   "outputs": [
    {
     "data": {
      "text/html": [
       "<div>\n",
       "<style scoped>\n",
       "    .dataframe tbody tr th:only-of-type {\n",
       "        vertical-align: middle;\n",
       "    }\n",
       "\n",
       "    .dataframe tbody tr th {\n",
       "        vertical-align: top;\n",
       "    }\n",
       "\n",
       "    .dataframe thead th {\n",
       "        text-align: right;\n",
       "    }\n",
       "</style>\n",
       "<table border=\"1\" class=\"dataframe\">\n",
       "  <thead>\n",
       "    <tr style=\"text-align: right;\">\n",
       "      <th></th>\n",
       "      <th>algo</th>\n",
       "      <th>item_name</th>\n",
       "      <th>input_movie_path</th>\n",
       "      <th>params</th>\n",
       "      <th>outputs</th>\n",
       "      <th>added_time</th>\n",
       "      <th>ran_time</th>\n",
       "      <th>algo_duration</th>\n",
       "      <th>comments</th>\n",
       "      <th>uuid</th>\n",
       "    </tr>\n",
       "  </thead>\n",
       "  <tbody>\n",
       "    <tr>\n",
       "      <th>0</th>\n",
       "      <td>mcorr</td>\n",
       "      <td>s2371_240404</td>\n",
       "      <td>s2371_240404.tif</td>\n",
       "      <td>{'main': {'gSig_filt': (5, 5), 'pw_rigid': True, 'max_shifts': (5, 5), 'strides': (48, 48), 'overlaps': (24, 24), 'm...</td>\n",
       "      <td>{'mean-projection-path': 5179d365-e906-42fc-9b7f-386949adf1fa\\5179d365-e906-42fc-9b7f-386949adf1fa_mean_projection.n...</td>\n",
       "      <td>2024-04-24T14:54:22</td>\n",
       "      <td>2024-04-24T15:28:49</td>\n",
       "      <td>1857.38 sec</td>\n",
       "      <td>None</td>\n",
       "      <td>5179d365-e906-42fc-9b7f-386949adf1fa</td>\n",
       "    </tr>\n",
       "    <tr>\n",
       "      <th>1</th>\n",
       "      <td>mcorr</td>\n",
       "      <td>s2371_240405</td>\n",
       "      <td>s2371_240405.tif</td>\n",
       "      <td>{'main': {'gSig_filt': (5, 5), 'pw_rigid': True, 'max_shifts': (5, 5), 'strides': (48, 48), 'overlaps': (24, 24), 'm...</td>\n",
       "      <td>{'mean-projection-path': 9b4f9d84-6059-422a-9bf6-b6e8e9ac29b2\\9b4f9d84-6059-422a-9bf6-b6e8e9ac29b2_mean_projection.n...</td>\n",
       "      <td>2024-04-23T22:01:11</td>\n",
       "      <td>2024-04-23T23:03:08</td>\n",
       "      <td>1869.93 sec</td>\n",
       "      <td>None</td>\n",
       "      <td>9b4f9d84-6059-422a-9bf6-b6e8e9ac29b2</td>\n",
       "    </tr>\n",
       "    <tr>\n",
       "      <th>2</th>\n",
       "      <td>mcorr</td>\n",
       "      <td>s2371_240411</td>\n",
       "      <td>s2371_240411.tif</td>\n",
       "      <td>{'main': {'gSig_filt': (5, 5), 'pw_rigid': True, 'max_shifts': (5, 5), 'strides': (48, 48), 'overlaps': (24, 24), 'm...</td>\n",
       "      <td>{'mean-projection-path': 5dcc164b-d50f-4a5e-80ab-f477d07d647a\\5dcc164b-d50f-4a5e-80ab-f477d07d647a_mean_projection.n...</td>\n",
       "      <td>2024-04-23T22:01:11</td>\n",
       "      <td>2024-04-23T23:31:28</td>\n",
       "      <td>1699.41 sec</td>\n",
       "      <td>None</td>\n",
       "      <td>5dcc164b-d50f-4a5e-80ab-f477d07d647a</td>\n",
       "    </tr>\n",
       "    <tr>\n",
       "      <th>3</th>\n",
       "      <td>mcorr</td>\n",
       "      <td>s2371_240412</td>\n",
       "      <td>s2371_240412.tif</td>\n",
       "      <td>{'main': {'gSig_filt': (5, 5), 'pw_rigid': True, 'max_shifts': (5, 5), 'strides': (48, 48), 'overlaps': (24, 24), 'm...</td>\n",
       "      <td>{'mean-projection-path': 48e85c41-100c-4d80-bb61-909ca6f8d7bf\\48e85c41-100c-4d80-bb61-909ca6f8d7bf_mean_projection.n...</td>\n",
       "      <td>2024-04-23T22:01:11</td>\n",
       "      <td>2024-04-23T23:45:31</td>\n",
       "      <td>841.89 sec</td>\n",
       "      <td>None</td>\n",
       "      <td>48e85c41-100c-4d80-bb61-909ca6f8d7bf</td>\n",
       "    </tr>\n",
       "    <tr>\n",
       "      <th>4</th>\n",
       "      <td>mcorr</td>\n",
       "      <td>s2371_240417</td>\n",
       "      <td>s2371_240417.tif</td>\n",
       "      <td>{'main': {'gSig_filt': (5, 5), 'pw_rigid': True, 'max_shifts': (5, 5), 'strides': (48, 48), 'overlaps': (24, 24), 'm...</td>\n",
       "      <td>{'mean-projection-path': d7fbcef8-3dc2-415d-815d-ef18048e1b1f\\d7fbcef8-3dc2-415d-815d-ef18048e1b1f_mean_projection.n...</td>\n",
       "      <td>2024-04-23T22:01:11</td>\n",
       "      <td>2024-04-24T00:10:12</td>\n",
       "      <td>1480.14 sec</td>\n",
       "      <td>None</td>\n",
       "      <td>d7fbcef8-3dc2-415d-815d-ef18048e1b1f</td>\n",
       "    </tr>\n",
       "    <tr>\n",
       "      <th>...</th>\n",
       "      <td>...</td>\n",
       "      <td>...</td>\n",
       "      <td>...</td>\n",
       "      <td>...</td>\n",
       "      <td>...</td>\n",
       "      <td>...</td>\n",
       "      <td>...</td>\n",
       "      <td>...</td>\n",
       "      <td>...</td>\n",
       "      <td>...</td>\n",
       "    </tr>\n",
       "    <tr>\n",
       "      <th>59</th>\n",
       "      <td>cnmfe</td>\n",
       "      <td>s2375_240425</td>\n",
       "      <td>6157b70a-a76c-4b2d-a30b-c0c44491d60b\\6157b70a-a76c-4b2d-a30b-c0c44491d60b-s2375_240425_els__d1_1024_d2_1024_d3_1_ord...</td>\n",
       "      <td>{'main': {'method_init': 'corr_pnr', 'K': None, 'gSig': (3, 3), 'gSiz': (13, 13), 'merge_thr': 0.7, 'p': 1, 'tsub': ...</td>\n",
       "      <td>{'cnmf-hdf5-path': dccee4f8-614f-422e-a22e-1b59cd5449af\\dccee4f8-614f-422e-a22e-1b59cd5449af.hdf5, 'mean-projection-...</td>\n",
       "      <td>2024-04-26T11:14:38</td>\n",
       "      <td>2024-04-26T12:20:31</td>\n",
       "      <td>940.13 sec</td>\n",
       "      <td>None</td>\n",
       "      <td>dccee4f8-614f-422e-a22e-1b59cd5449af</td>\n",
       "    </tr>\n",
       "    <tr>\n",
       "      <th>60</th>\n",
       "      <td>cnmfe</td>\n",
       "      <td>s2376_240425</td>\n",
       "      <td>1a8341ab-7b22-4951-9e3f-6790a1a5cbc5\\1a8341ab-7b22-4951-9e3f-6790a1a5cbc5-s2376_240425_els__d1_1024_d2_1024_d3_1_ord...</td>\n",
       "      <td>{'main': {'method_init': 'corr_pnr', 'K': None, 'gSig': (3, 3), 'gSiz': (13, 13), 'merge_thr': 0.7, 'p': 1, 'tsub': ...</td>\n",
       "      <td>{'cnmf-hdf5-path': ca261dad-4699-4ab5-af12-fcdfa7dec3ca\\ca261dad-4699-4ab5-af12-fcdfa7dec3ca.hdf5, 'mean-projection-...</td>\n",
       "      <td>2024-04-26T11:14:38</td>\n",
       "      <td>2024-04-26T12:37:20</td>\n",
       "      <td>1008.85 sec</td>\n",
       "      <td>None</td>\n",
       "      <td>ca261dad-4699-4ab5-af12-fcdfa7dec3ca</td>\n",
       "    </tr>\n",
       "    <tr>\n",
       "      <th>61</th>\n",
       "      <td>cnmfe</td>\n",
       "      <td>s2372_240425</td>\n",
       "      <td>447b8d72-600a-48a1-8f0d-209ba9271119\\447b8d72-600a-48a1-8f0d-209ba9271119-s2372_240425_els__d1_1024_d2_1024_d3_1_ord...</td>\n",
       "      <td>{'main': {'method_init': 'corr_pnr', 'K': None, 'gSig': (3, 3), 'gSiz': (13, 13), 'merge_thr': 0.7, 'p': 1, 'tsub': ...</td>\n",
       "      <td>{'cnmf-hdf5-path': 7bf4f771-bfeb-4794-aa66-d42210c46d79\\7bf4f771-bfeb-4794-aa66-d42210c46d79.hdf5, 'mean-projection-...</td>\n",
       "      <td>2024-04-26T11:14:38</td>\n",
       "      <td>2024-04-26T12:56:20</td>\n",
       "      <td>1139.96 sec</td>\n",
       "      <td>None</td>\n",
       "      <td>7bf4f771-bfeb-4794-aa66-d42210c46d79</td>\n",
       "    </tr>\n",
       "    <tr>\n",
       "      <th>62</th>\n",
       "      <td>cnmfe</td>\n",
       "      <td>s2371_240425</td>\n",
       "      <td>69292107-70bc-42ab-9b93-94493a45c7e9\\69292107-70bc-42ab-9b93-94493a45c7e9-s2371_240425_els__d1_1024_d2_1024_d3_1_ord...</td>\n",
       "      <td>{'main': {'method_init': 'corr_pnr', 'K': None, 'gSig': (3, 3), 'gSiz': (13, 13), 'merge_thr': 0.7, 'p': 1, 'tsub': ...</td>\n",
       "      <td>{'cnmf-hdf5-path': 50144d9f-699b-4528-b97d-7f3b9eaa8cbd\\50144d9f-699b-4528-b97d-7f3b9eaa8cbd.hdf5, 'mean-projection-...</td>\n",
       "      <td>2024-04-26T11:14:38</td>\n",
       "      <td>2024-04-26T13:16:33</td>\n",
       "      <td>1213.8 sec</td>\n",
       "      <td>None</td>\n",
       "      <td>50144d9f-699b-4528-b97d-7f3b9eaa8cbd</td>\n",
       "    </tr>\n",
       "    <tr>\n",
       "      <th>63</th>\n",
       "      <td>cnmfe</td>\n",
       "      <td>s2376_240424</td>\n",
       "      <td>efb31f15-064b-4f9d-95b6-c5c95f802fd6\\efb31f15-064b-4f9d-95b6-c5c95f802fd6-s2376_240424_els__d1_1024_d2_1024_d3_1_ord...</td>\n",
       "      <td>{'main': {'method_init': 'corr_pnr', 'K': None, 'gSig': (3, 3), 'gSiz': (13, 13), 'merge_thr': 0.7, 'p': 1, 'tsub': ...</td>\n",
       "      <td>{'cnmf-hdf5-path': da3930bb-3eb5-45c9-8bbf-bbffdbeeadf3\\da3930bb-3eb5-45c9-8bbf-bbffdbeeadf3.hdf5, 'mean-projection-...</td>\n",
       "      <td>2024-04-26T11:14:38</td>\n",
       "      <td>2024-04-26T13:34:53</td>\n",
       "      <td>1099.76 sec</td>\n",
       "      <td>None</td>\n",
       "      <td>da3930bb-3eb5-45c9-8bbf-bbffdbeeadf3</td>\n",
       "    </tr>\n",
       "  </tbody>\n",
       "</table>\n",
       "<p>64 rows × 10 columns</p>\n",
       "</div>"
      ],
      "text/plain": [
       "     algo     item_name  \\\n",
       "0   mcorr  s2371_240404   \n",
       "1   mcorr  s2371_240405   \n",
       "2   mcorr  s2371_240411   \n",
       "3   mcorr  s2371_240412   \n",
       "4   mcorr  s2371_240417   \n",
       "..    ...           ...   \n",
       "59  cnmfe  s2375_240425   \n",
       "60  cnmfe  s2376_240425   \n",
       "61  cnmfe  s2372_240425   \n",
       "62  cnmfe  s2371_240425   \n",
       "63  cnmfe  s2376_240424   \n",
       "\n",
       "                                                                                                           input_movie_path  \\\n",
       "0                                                                                                          s2371_240404.tif   \n",
       "1                                                                                                          s2371_240405.tif   \n",
       "2                                                                                                          s2371_240411.tif   \n",
       "3                                                                                                          s2371_240412.tif   \n",
       "4                                                                                                          s2371_240417.tif   \n",
       "..                                                                                                                      ...   \n",
       "59  6157b70a-a76c-4b2d-a30b-c0c44491d60b\\6157b70a-a76c-4b2d-a30b-c0c44491d60b-s2375_240425_els__d1_1024_d2_1024_d3_1_ord...   \n",
       "60  1a8341ab-7b22-4951-9e3f-6790a1a5cbc5\\1a8341ab-7b22-4951-9e3f-6790a1a5cbc5-s2376_240425_els__d1_1024_d2_1024_d3_1_ord...   \n",
       "61  447b8d72-600a-48a1-8f0d-209ba9271119\\447b8d72-600a-48a1-8f0d-209ba9271119-s2372_240425_els__d1_1024_d2_1024_d3_1_ord...   \n",
       "62  69292107-70bc-42ab-9b93-94493a45c7e9\\69292107-70bc-42ab-9b93-94493a45c7e9-s2371_240425_els__d1_1024_d2_1024_d3_1_ord...   \n",
       "63  efb31f15-064b-4f9d-95b6-c5c95f802fd6\\efb31f15-064b-4f9d-95b6-c5c95f802fd6-s2376_240424_els__d1_1024_d2_1024_d3_1_ord...   \n",
       "\n",
       "                                                                                                                     params  \\\n",
       "0   {'main': {'gSig_filt': (5, 5), 'pw_rigid': True, 'max_shifts': (5, 5), 'strides': (48, 48), 'overlaps': (24, 24), 'm...   \n",
       "1   {'main': {'gSig_filt': (5, 5), 'pw_rigid': True, 'max_shifts': (5, 5), 'strides': (48, 48), 'overlaps': (24, 24), 'm...   \n",
       "2   {'main': {'gSig_filt': (5, 5), 'pw_rigid': True, 'max_shifts': (5, 5), 'strides': (48, 48), 'overlaps': (24, 24), 'm...   \n",
       "3   {'main': {'gSig_filt': (5, 5), 'pw_rigid': True, 'max_shifts': (5, 5), 'strides': (48, 48), 'overlaps': (24, 24), 'm...   \n",
       "4   {'main': {'gSig_filt': (5, 5), 'pw_rigid': True, 'max_shifts': (5, 5), 'strides': (48, 48), 'overlaps': (24, 24), 'm...   \n",
       "..                                                                                                                      ...   \n",
       "59  {'main': {'method_init': 'corr_pnr', 'K': None, 'gSig': (3, 3), 'gSiz': (13, 13), 'merge_thr': 0.7, 'p': 1, 'tsub': ...   \n",
       "60  {'main': {'method_init': 'corr_pnr', 'K': None, 'gSig': (3, 3), 'gSiz': (13, 13), 'merge_thr': 0.7, 'p': 1, 'tsub': ...   \n",
       "61  {'main': {'method_init': 'corr_pnr', 'K': None, 'gSig': (3, 3), 'gSiz': (13, 13), 'merge_thr': 0.7, 'p': 1, 'tsub': ...   \n",
       "62  {'main': {'method_init': 'corr_pnr', 'K': None, 'gSig': (3, 3), 'gSiz': (13, 13), 'merge_thr': 0.7, 'p': 1, 'tsub': ...   \n",
       "63  {'main': {'method_init': 'corr_pnr', 'K': None, 'gSig': (3, 3), 'gSiz': (13, 13), 'merge_thr': 0.7, 'p': 1, 'tsub': ...   \n",
       "\n",
       "                                                                                                                    outputs  \\\n",
       "0   {'mean-projection-path': 5179d365-e906-42fc-9b7f-386949adf1fa\\5179d365-e906-42fc-9b7f-386949adf1fa_mean_projection.n...   \n",
       "1   {'mean-projection-path': 9b4f9d84-6059-422a-9bf6-b6e8e9ac29b2\\9b4f9d84-6059-422a-9bf6-b6e8e9ac29b2_mean_projection.n...   \n",
       "2   {'mean-projection-path': 5dcc164b-d50f-4a5e-80ab-f477d07d647a\\5dcc164b-d50f-4a5e-80ab-f477d07d647a_mean_projection.n...   \n",
       "3   {'mean-projection-path': 48e85c41-100c-4d80-bb61-909ca6f8d7bf\\48e85c41-100c-4d80-bb61-909ca6f8d7bf_mean_projection.n...   \n",
       "4   {'mean-projection-path': d7fbcef8-3dc2-415d-815d-ef18048e1b1f\\d7fbcef8-3dc2-415d-815d-ef18048e1b1f_mean_projection.n...   \n",
       "..                                                                                                                      ...   \n",
       "59  {'cnmf-hdf5-path': dccee4f8-614f-422e-a22e-1b59cd5449af\\dccee4f8-614f-422e-a22e-1b59cd5449af.hdf5, 'mean-projection-...   \n",
       "60  {'cnmf-hdf5-path': ca261dad-4699-4ab5-af12-fcdfa7dec3ca\\ca261dad-4699-4ab5-af12-fcdfa7dec3ca.hdf5, 'mean-projection-...   \n",
       "61  {'cnmf-hdf5-path': 7bf4f771-bfeb-4794-aa66-d42210c46d79\\7bf4f771-bfeb-4794-aa66-d42210c46d79.hdf5, 'mean-projection-...   \n",
       "62  {'cnmf-hdf5-path': 50144d9f-699b-4528-b97d-7f3b9eaa8cbd\\50144d9f-699b-4528-b97d-7f3b9eaa8cbd.hdf5, 'mean-projection-...   \n",
       "63  {'cnmf-hdf5-path': da3930bb-3eb5-45c9-8bbf-bbffdbeeadf3\\da3930bb-3eb5-45c9-8bbf-bbffdbeeadf3.hdf5, 'mean-projection-...   \n",
       "\n",
       "             added_time             ran_time algo_duration comments  \\\n",
       "0   2024-04-24T14:54:22  2024-04-24T15:28:49   1857.38 sec     None   \n",
       "1   2024-04-23T22:01:11  2024-04-23T23:03:08   1869.93 sec     None   \n",
       "2   2024-04-23T22:01:11  2024-04-23T23:31:28   1699.41 sec     None   \n",
       "3   2024-04-23T22:01:11  2024-04-23T23:45:31    841.89 sec     None   \n",
       "4   2024-04-23T22:01:11  2024-04-24T00:10:12   1480.14 sec     None   \n",
       "..                  ...                  ...           ...      ...   \n",
       "59  2024-04-26T11:14:38  2024-04-26T12:20:31    940.13 sec     None   \n",
       "60  2024-04-26T11:14:38  2024-04-26T12:37:20   1008.85 sec     None   \n",
       "61  2024-04-26T11:14:38  2024-04-26T12:56:20   1139.96 sec     None   \n",
       "62  2024-04-26T11:14:38  2024-04-26T13:16:33    1213.8 sec     None   \n",
       "63  2024-04-26T11:14:38  2024-04-26T13:34:53   1099.76 sec     None   \n",
       "\n",
       "                                    uuid  \n",
       "0   5179d365-e906-42fc-9b7f-386949adf1fa  \n",
       "1   9b4f9d84-6059-422a-9bf6-b6e8e9ac29b2  \n",
       "2   5dcc164b-d50f-4a5e-80ab-f477d07d647a  \n",
       "3   48e85c41-100c-4d80-bb61-909ca6f8d7bf  \n",
       "4   d7fbcef8-3dc2-415d-815d-ef18048e1b1f  \n",
       "..                                   ...  \n",
       "59  dccee4f8-614f-422e-a22e-1b59cd5449af  \n",
       "60  ca261dad-4699-4ab5-af12-fcdfa7dec3ca  \n",
       "61  7bf4f771-bfeb-4794-aa66-d42210c46d79  \n",
       "62  50144d9f-699b-4528-b97d-7f3b9eaa8cbd  \n",
       "63  da3930bb-3eb5-45c9-8bbf-bbffdbeeadf3  \n",
       "\n",
       "[64 rows x 10 columns]"
      ]
     },
     "execution_count": 2,
     "metadata": {},
     "output_type": "execute_result"
    }
   ],
   "source": [
    "mc.set_parent_raw_data_path(r\"D:\\Data\\SingleCellData\")\n",
    "batch_path = mc.get_parent_raw_data_path().joinpath(\"mesmerize-cnmfe/batch.pickle\")\n",
    "df = mc.load_batch(batch_path)\n",
    "df"
   ]
  },
  {
   "cell_type": "markdown",
   "id": "21b73384-8d8c-4587-8722-267f1b679457",
   "metadata": {},
   "source": [
    "## Add new tif file"
   ]
  },
  {
   "cell_type": "code",
   "execution_count": null,
   "id": "0f7be771-bda9-45ae-be7d-0d018ccfb59c",
   "metadata": {},
   "outputs": [],
   "source": [
    "movie_path = mc.get_parent_raw_data_path().joinpath(\"s2376_240405_240411.tif\")"
   ]
  },
  {
   "cell_type": "markdown",
   "id": "d6444401-51b0-489d-867c-6c40bccaf1cf",
   "metadata": {},
   "source": [
    "## Motion correction"
   ]
  },
  {
   "cell_type": "code",
   "execution_count": null,
   "id": "7c899abb-aae3-4ae7-aeb6-05c4e9105dd1",
   "metadata": {},
   "outputs": [],
   "source": [
    "params =\\\n",
    "{\n",
    "    \"main\":\n",
    "    {\n",
    "        \"gSig_filt\": (7, 7), # a gSig_filt value that brings out \"landmarks\" in the movie\n",
    "        \"pw_rigid\": False,\n",
    "        \"max_shifts\": (25, 25),\n",
    "        \"strides\": (48, 48),\n",
    "        \"overlaps\": (24, 24),\n",
    "        \"max_deviation_rigid\": 3,\n",
    "        \"border_nan\": \"copy\",\n",
    "    }\n",
    "}"
   ]
  },
  {
   "cell_type": "code",
   "execution_count": null,
   "id": "ae0ad6d5-ecb0-4175-a69c-ec91401efab8",
   "metadata": {},
   "outputs": [],
   "source": [
    "df.caiman.add_item(\n",
    "    algo=\"mcorr\",\n",
    "    input_movie_path=movie_path,\n",
    "    params=params,\n",
    "    item_name=movie_path.stem\n",
    ")\n",
    "\n",
    "df"
   ]
  },
  {
   "cell_type": "code",
   "execution_count": null,
   "id": "9df1589b-8637-4a5b-94ce-4d82ff76e8d5",
   "metadata": {},
   "outputs": [],
   "source": [
    "df.iloc[57].caiman.run()\n",
    "# reload dataframe from disk when done\n",
    "df = df.caiman.reload_from_disk()"
   ]
  },
  {
   "cell_type": "code",
   "execution_count": 3,
   "id": "d71e0957-bfcf-4909-bdd7-900067b13f5f",
   "metadata": {},
   "outputs": [
    {
     "name": "stderr",
     "output_type": "stream",
     "text": [
      "C:\\Users\\prsalab\\miniforge3\\envs\\mescore\\lib\\site-packages\\ipydatagrid\\datagrid.py:460: UserWarning: Index name of 'index' is not round-trippable.\n",
      "  schema = pd.io.json.build_table_schema(dataframe)\n"
     ]
    },
    {
     "data": {
      "application/vnd.jupyter.widget-view+json": {
       "model_id": "d176280d7fcc4600ab7ac906ae82d95f",
       "version_major": 2,
       "version_minor": 0
      },
      "text/plain": [
       "RFBOutputContext()"
      ]
     },
     "metadata": {},
     "output_type": "display_data"
    },
    {
     "name": "stderr",
     "output_type": "stream",
     "text": [
      "C:\\Users\\prsalab\\miniforge3\\envs\\mescore\\lib\\site-packages\\fastplotlib\\graphics\\_features\\_base.py:34: UserWarning: converting float64 array to float32\n",
      "  warn(f\"converting {array.dtype} array to float32\")\n"
     ]
    },
    {
     "data": {
      "application/vnd.jupyter.widget-view+json": {
       "model_id": "06548a5d90b74cc9bcd3ea9d0372f62c",
       "version_major": 2,
       "version_minor": 0
      },
      "text/plain": [
       "VBox(children=(HBox(children=(DataGrid(auto_fit_params={'area': 'all', 'padding': 30, 'numCols': None}, base_r…"
      ]
     },
     "execution_count": 3,
     "metadata": {},
     "output_type": "execute_result"
    }
   ],
   "source": [
    "viz = df.mcorr.viz()\n",
    "viz.show()"
   ]
  },
  {
   "cell_type": "markdown",
   "id": "496f3a9a-e473-40cb-8204-fefd5a6a1760",
   "metadata": {},
   "source": [
    "## CNMFE"
   ]
  },
  {
   "cell_type": "code",
   "execution_count": null,
   "id": "d7bcb6da-aa32-4b70-8706-f4d7ec7aecce",
   "metadata": {},
   "outputs": [],
   "source": [
    "gSig = 2\n",
    "corr_pnr = {'min_corr':0.85, 'min_pnr':12}"
   ]
  },
  {
   "cell_type": "code",
   "execution_count": null,
   "id": "01b84a2e-0eb4-4198-be45-cc0937001552",
   "metadata": {},
   "outputs": [],
   "source": [
    "params_cnmfe =\\\n",
    "{\n",
    "    \"main\":\n",
    "    {\n",
    "        'method_init': 'corr_pnr',  # use this for 1 photon\n",
    "        'K': None,\n",
    "        'gSig': (gSig, gSig),\n",
    "        'gSiz': (4 * gSig + 1, 4 * gSig + 1),\n",
    "        'merge_thr': 0.7,\n",
    "        'p': 1,\n",
    "        'tsub': 2,\n",
    "        'ssub': 1,\n",
    "        'rf': 40,\n",
    "        'stride': 20,\n",
    "        'only_init': True,    # set it to True to run CNMF-E\n",
    "        'nb': 0,\n",
    "        'nb_patch': 0,\n",
    "        'method_deconvolution': 'oasis',       # could use 'cvxpy' alternatively\n",
    "        'low_rank_background': None,\n",
    "        'update_background_components': True,  # sometimes setting to False improve the results\n",
    "        'normalize_init': False,               # just leave as is\n",
    "        'center_psf': True,                    # leave as is for 1 photon\n",
    "        'ssub_B': 2,\n",
    "        'ring_size_factor': 1.4,\n",
    "        'del_duplicates': True,                # whether to remove duplicates from initialization\n",
    "        **corr_pnr # unpack corr_pnr vals into here\n",
    "    }\n",
    "}"
   ]
  },
  {
   "cell_type": "code",
   "execution_count": null,
   "id": "57ce6d31-194e-4989-aca5-9f62f8d70474",
   "metadata": {},
   "outputs": [],
   "source": [
    "df.caiman.add_item(\n",
    "    algo=\"cnmfe\",\n",
    "    input_movie_path=df.iloc[0],\n",
    "    params=params_cnmfe,\n",
    "    item_name=df.iloc[0][\"item_name\"]\n",
    ")\n",
    "\n",
    "df"
   ]
  },
  {
   "cell_type": "code",
   "execution_count": null,
   "id": "fe865ef4-6634-4837-8451-056ec6a1f644",
   "metadata": {},
   "outputs": [],
   "source": [
    "df.iloc[-1].caiman.run()\n",
    "# reload dataframe from disk when done\n",
    "df = df.caiman.reload_from_disk()"
   ]
  },
  {
   "cell_type": "code",
   "execution_count": 3,
   "id": "4075a89b-445f-4dfb-9f92-16bba2738a9f",
   "metadata": {},
   "outputs": [
    {
     "name": "stderr",
     "output_type": "stream",
     "text": [
      "C:\\Users\\prsalab\\miniforge3\\envs\\mescore\\lib\\site-packages\\ipydatagrid\\datagrid.py:460: UserWarning: Index name of 'index' is not round-trippable.\n",
      "  schema = pd.io.json.build_table_schema(dataframe)\n"
     ]
    },
    {
     "data": {
      "application/vnd.jupyter.widget-view+json": {
       "model_id": "970c39a92a4b4269b6b915b80f22d484",
       "version_major": 2,
       "version_minor": 0
      },
      "text/plain": [
       "RFBOutputContext()"
      ]
     },
     "metadata": {},
     "output_type": "display_data"
    },
    {
     "data": {
      "application/vnd.jupyter.widget-view+json": {
       "model_id": "5de50e6ad8f04c7f9ab4a5d1865e33ea",
       "version_major": 2,
       "version_minor": 0
      },
      "text/plain": [
       "RFBOutputContext()"
      ]
     },
     "metadata": {},
     "output_type": "display_data"
    },
    {
     "name": "stderr",
     "output_type": "stream",
     "text": [
      "C:\\Users\\prsalab\\miniforge3\\envs\\mescore\\lib\\site-packages\\mesmerize_viz\\_cnmf.py:621: RuntimeWarning: overflow encountered in scalar multiply\n",
      "  size = rcm.shape[0] * rcm.shape[1] * rcm.shape[2]\n",
      "C:\\Users\\prsalab\\miniforge3\\envs\\mescore\\lib\\site-packages\\fastplotlib\\graphics\\_features\\_base.py:34: UserWarning: converting float64 array to float32\n",
      "  warn(f\"converting {array.dtype} array to float32\")\n"
     ]
    },
    {
     "data": {
      "application/vnd.jupyter.widget-view+json": {
       "model_id": "12e3f21007824c5f8157d6db14e45f7b",
       "version_major": 2,
       "version_minor": 0
      },
      "text/plain": [
       "RFBOutputContext()"
      ]
     },
     "metadata": {},
     "output_type": "display_data"
    }
   ],
   "source": [
    "viz_cnmf = df.cnmf.viz(\n",
    "    image_data_options=[\"input\", \"rcm\"], # cnmfe does not support rcb and residuals yet\n",
    ")\n",
    "viz_cnmf.show(sidecar = True)"
   ]
  },
  {
   "cell_type": "code",
   "execution_count": null,
   "id": "54784f8d-e63f-44bb-b80e-4daf790738e7",
   "metadata": {},
   "outputs": [],
   "source": [
    "viz_cnmf.image_widget.cmap = 'gray'"
   ]
  },
  {
   "cell_type": "code",
   "execution_count": null,
   "id": "81f4f1c2-a9d5-42b6-a83a-ff16efd16744",
   "metadata": {},
   "outputs": [],
   "source": [
    "dir(viz_cnmf.cnmf_obj)"
   ]
  },
  {
   "cell_type": "code",
   "execution_count": null,
   "id": "826b7e75-5859-48dc-bd7c-33621a42c6f4",
   "metadata": {},
   "outputs": [],
   "source": [
    "from fastplotlib.widgets import ImageWidget\n",
    "rcm = df.iloc[-1].cnmf.get_rcm(component_indices=\"good\")\n",
    "\n",
    "# view with ImageWidget\n",
    "iw = ImageWidget(data=rcm)\n",
    "iw.show()"
   ]
  },
  {
   "cell_type": "code",
   "execution_count": null,
   "id": "761e00e8-1d97-452f-a6f8-eaeb295bedfa",
   "metadata": {},
   "outputs": [],
   "source": [
    "df.iloc[-1].cnmf.get_good_components()"
   ]
  },
  {
   "cell_type": "markdown",
   "id": "c25c091a-3baa-4d02-936b-532150cab3e3",
   "metadata": {},
   "source": [
    "## Check gSig_filt"
   ]
  },
  {
   "cell_type": "code",
   "execution_count": 4,
   "id": "5e6a986e-76e3-4fa6-9582-259984d046ea",
   "metadata": {},
   "outputs": [
    {
     "data": {
      "application/vnd.jupyter.widget-view+json": {
       "model_id": "42ee116a78a24186a00e231373760630",
       "version_major": 2,
       "version_minor": 0
      },
      "text/plain": [
       "RFBOutputContext()"
      ]
     },
     "metadata": {},
     "output_type": "display_data"
    },
    {
     "data": {
      "application/vnd.jupyter.widget-view+json": {
       "model_id": "96418efb61b04f1da2ebd3affd3d8972",
       "version_major": 2,
       "version_minor": 0
      },
      "text/plain": [
       "VBox(children=(JupyterOutputContext(children=(JupyterWgpuCanvas(css_height='600px', css_width='1200px'), Ipywi…"
      ]
     },
     "execution_count": 4,
     "metadata": {},
     "output_type": "execute_result"
    }
   ],
   "source": [
    "movie_path = mc.get_parent_raw_data_path().joinpath(\"s2376_240328.tif\")\n",
    "input_movie = tifffile.imread(movie_path)\n",
    "slider_gsig_filt = IntSlider(value=3, min=1, max=33, step=2,  description=\"gSig_filt\")\n",
    "\n",
    "def apply_filter(frame):\n",
    "    # read slider value\n",
    "    gSig_filt = (slider_gsig_filt.value, slider_gsig_filt.value)\n",
    "    \n",
    "    # apply filter\n",
    "    return high_pass_filter_space(frame, gSig_filt)\n",
    "\n",
    "# we can use frame_apply feature of `ImageWidget` to apply \n",
    "# the filter before displaying frames\n",
    "funcs = {\n",
    "    # data_index: function\n",
    "    1: apply_filter  # filter shown on right plot, index 1\n",
    "}\n",
    "\n",
    "# input movie will be shown on left, filtered on right\n",
    "iw_gs = fpl.ImageWidget(\n",
    "    data=[input_movie, input_movie.copy()],\n",
    "    frame_apply=funcs,\n",
    "    names=[\"raw\", \"filtered\"],\n",
    "    grid_plot_kwargs={\"size\": (1200, 600)},\n",
    "    cmap=\"gnuplot2\"\n",
    ")\n",
    "\n",
    "def force_update(*args):\n",
    "    # kinda hacky but forces the images to update \n",
    "    # when the gSig_filt slider is moved\n",
    "    iw_gs.current_index = iw_gs.current_index\n",
    "    iw_gs.reset_vmin_vmax()\n",
    "\n",
    "iw_gs.reset_vmin_vmax()\n",
    "    \n",
    "slider_gsig_filt.observe(force_update, \"value\")\n",
    "\n",
    "VBox([iw_gs.show(), slider_gsig_filt])"
   ]
  },
  {
   "cell_type": "markdown",
   "id": "ac62ae07-f671-43b4-a272-d886431d55f8",
   "metadata": {},
   "source": [
    "## Check corr and pnr"
   ]
  },
  {
   "cell_type": "code",
   "execution_count": null,
   "id": "084e32a1-1db2-496b-925b-7b54f63aec74",
   "metadata": {},
   "outputs": [],
   "source": [
    "# get the motion corrected output, this is a memmap array\n",
    "mcorr_movie = df.iloc[7].mcorr.get_output()\n",
    "\n",
    "gSig = 3\n",
    "corr, pnr = correlation_pnr(mcorr_movie[::2], gSig=gSig, swap_dim=False)\n",
    "# to show the correlation and pnr images\n",
    "iw_corr_pnr = fpl.ImageWidget(\n",
    "    [corr, pnr], \n",
    "    names=[\"corr\", \"pnr\"],\n",
    "    grid_plot_kwargs={\"size\": (650, 300)},\n",
    "    cmap=\"turbo\",\n",
    ")\n",
    "\n",
    "# mcorr vids, we will display thresholded mcorr vids\n",
    "mcorr_vids = [mcorr_movie.astype(np.float32) for i in range(4)]\n",
    "\n",
    "# sync the threshold image widget with the corr-pnr plot\n",
    "\n",
    "\n",
    "iw_thres_movie = fpl.ImageWidget(\n",
    "    mcorr_vids, \n",
    "    names=[\"over corr threshold\", \"over pnr threshold\", \"under corr threshold\", \"under pnr threshold\"],\n",
    "    # sync this with the corr-pnr plot\n",
    "    cmap=\"gnuplot2\"\n",
    ")\n",
    "\n",
    "# display threshold of the spatially filtered movie\n",
    "def spatial_filter(frame):\n",
    "    f = high_pass_filter_space(frame, (3, 3))\n",
    "    return f\n",
    "\n",
    "\n",
    "# threshold\n",
    "def threshold(frame, mask):\n",
    "    # optionally use spatial filter\n",
    "    t = spatial_filter(frame)\n",
    "    \n",
    "    t = t.copy()\n",
    "    \n",
    "    t[mask] = t.min()\n",
    "    \n",
    "    return t\n",
    "\n",
    "# Set the thresholded images using the vmin set from top subplots\n",
    "# dict of threshold lambda wrappers to set on ImageWidget\n",
    "# this sets the frame_apply for each subplot\n",
    "threshold_funcs = {\n",
    "    0: lambda frame: threshold(frame, corr < iw_corr_pnr.gridplot[\"corr\"].graphics[0].cmap.vmin),\n",
    "    1: lambda frame: threshold(frame, pnr < iw_corr_pnr.gridplot[\"pnr\"].graphics[0].cmap.vmin),\n",
    "    2: lambda frame: threshold(frame, corr > iw_corr_pnr.gridplot[\"corr\"].graphics[0].cmap.vmin),\n",
    "    3: lambda frame: threshold(frame, pnr > iw_corr_pnr.gridplot[\"pnr\"].graphics[0].cmap.vmin)\n",
    "}\n",
    "\n",
    "# set the dict of lambda wrappers\n",
    "iw_thres_movie.frame_apply = threshold_funcs\n",
    "\n",
    "# update threshold plots when the corr pnr sliders move\n",
    "def update_threshold_plots(*args):\n",
    "    iw_thres_movie.current_index = iw_thres_movie.current_index\n",
    "\n",
    "# this will get easier in the future\n",
    "iw_corr_pnr.gridplot[\"corr\"].docks[\"right\"][\"histogram_lut\"].linear_region.selection.add_event_handler(update_threshold_plots)\n",
    "iw_corr_pnr.gridplot[\"pnr\"].docks[\"right\"][\"histogram_lut\"].linear_region.selection.add_event_handler(update_threshold_plots)\n",
    "\n",
    "VBox([iw_corr_pnr.show(), iw_thres_movie.show()])"
   ]
  },
  {
   "cell_type": "code",
   "execution_count": null,
   "id": "5b96bcfa-2e66-4fbb-bece-53ced652f422",
   "metadata": {},
   "outputs": [],
   "source": []
  }
 ],
 "metadata": {
  "kernelspec": {
   "display_name": "Python 3 (ipykernel)",
   "language": "python",
   "name": "python3"
  },
  "language_info": {
   "codemirror_mode": {
    "name": "ipython",
    "version": 3
   },
   "file_extension": ".py",
   "mimetype": "text/x-python",
   "name": "python",
   "nbconvert_exporter": "python",
   "pygments_lexer": "ipython3",
   "version": "3.10.8"
  }
 },
 "nbformat": 4,
 "nbformat_minor": 5
}
