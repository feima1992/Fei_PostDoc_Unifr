{
 "cells": [
  {
   "cell_type": "code",
   "execution_count": null,
   "id": "06f09b74-abfb-493f-98ab-11e034d915b4",
   "metadata": {
    "scrolled": true
   },
   "outputs": [],
   "source": [
    "from matplotlib import pyplot as plt\n",
    "import numpy as np\n",
    "import pandas as pd\n",
    "# import WFS class\n",
    "from WFS import WFS\n",
    "# create a WFS object\n",
    "wfs = WFS()\n",
    "# inspect the batch processing dataframe\n",
    "wfs.df"
   ]
  },
  {
   "cell_type": "code",
   "execution_count": null,
   "id": "524625ea-c14d-4b8c-adfc-6c6560236afc",
   "metadata": {},
   "outputs": [],
   "source": [
    "wfs.RunAll()"
   ]
  },
  {
   "cell_type": "code",
   "execution_count": null,
   "id": "2f51a895-c7b8-4048-9c24-9546646eff08",
   "metadata": {},
   "outputs": [],
   "source": [
    "# run the batch analysis\n",
    "wfs.Eval()"
   ]
  },
  {
   "cell_type": "code",
   "execution_count": null,
   "id": "df3c77bf-a295-4bc8-a399-072a1221645b",
   "metadata": {},
   "outputs": [],
   "source": [
    "# export the component traces and coordinates\n",
    "wfs.ExportCoordAndTrace()"
   ]
  }
 ],
 "metadata": {
  "kernelspec": {
   "display_name": "Python 3 (ipykernel)",
   "language": "python",
   "name": "python3"
  },
  "language_info": {
   "codemirror_mode": {
    "name": "ipython",
    "version": 3
   },
   "file_extension": ".py",
   "mimetype": "text/x-python",
   "name": "python",
   "nbconvert_exporter": "python",
   "pygments_lexer": "ipython3",
   "version": "3.10.8"
  }
 },
 "nbformat": 4,
 "nbformat_minor": 5
}
