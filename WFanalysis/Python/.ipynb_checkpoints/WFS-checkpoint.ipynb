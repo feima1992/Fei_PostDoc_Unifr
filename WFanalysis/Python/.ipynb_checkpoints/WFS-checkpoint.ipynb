{
 "cells": [
  {
   "cell_type": "markdown",
   "id": "72a8ad40-7fbf-4f9d-886d-491023917486",
   "metadata": {},
   "source": [
    "## Batch CNMFE for neuron extraction from 1p calcium iamging"
   ]
  },
  {
   "cell_type": "code",
   "execution_count": null,
   "id": "06f09b74-abfb-493f-98ab-11e034d915b4",
   "metadata": {
    "scrolled": true
   },
   "outputs": [],
   "source": [
    "# import WFS class\n",
    "from WFS import WFS\n",
    "# create a WFS object\n",
    "wfs = WFS()\n",
    "# inspect the batch processing dataframe\n",
    "wfs.df"
   ]
  },
  {
   "cell_type": "code",
   "execution_count": null,
   "id": "2f51a895-c7b8-4048-9c24-9546646eff08",
   "metadata": {},
   "outputs": [],
   "source": [
    "# run the batch analysis\n",
    "wfs.RunAll().Eval().ExportCoordAndTrace()"
   ]
  },
  {
   "cell_type": "markdown",
   "id": "8895bd45-923a-460e-ba2f-49124c7443cf",
   "metadata": {},
   "source": [
    "## Inspect motion correction and neuron extraction"
   ]
  },
  {
   "cell_type": "code",
   "execution_count": 2,
   "id": "86557a60-db0e-436f-9ecf-e5e15a94675d",
   "metadata": {},
   "outputs": [],
   "source": [
    "# import packages\n",
    "from copy import deepcopy\n",
    "import os\n",
    "\n",
    "import numpy as np\n",
    "import pandas as pd\n",
    "import tifffile\n",
    "from ipywidgets import IntSlider, VBox\n",
    "import fastplotlib as fpl\n",
    "\n",
    "from caiman.motion_correction import high_pass_filter_space\n",
    "from caiman.summary_images import correlation_pnr\n",
    "\n",
    "import mesmerize_core as mc\n",
    "from mesmerize_core.arrays import LazyTiff\n",
    "from mesmerize_viz import *\n",
    "\n",
    "from mesmerize_core.caiman_extensions.cnmf import cnmf_cache\n",
    "\n",
    "if os.name == \"nt\":\n",
    "    # disable the cache on windows, this will be automatic in a future version\n",
    "    cnmf_cache.set_maxsize(0)\n",
    "    \n",
    "pd.options.display.max_colwidth = 120"
   ]
  },
  {
   "cell_type": "code",
   "execution_count": 3,
   "id": "cfcabee3-9b01-44d6-b27b-992560500731",
   "metadata": {},
   "outputs": [],
   "source": [
    "# load batch dataframe\n",
    "mc.set_parent_raw_data_path(r\"D:\\Data\\SingleCellData\")\n",
    "batch_path = mc.get_parent_raw_data_path().joinpath(\"mesmerize-cnmfe/batch.pickle\")\n",
    "df = mc.load_batch(batch_path)"
   ]
  },
  {
   "cell_type": "code",
   "execution_count": 4,
   "id": "dba67237-a1b7-47b9-a776-2a2845c6309b",
   "metadata": {},
   "outputs": [
    {
     "name": "stderr",
     "output_type": "stream",
     "text": [
      "C:\\Users\\prsalab\\miniforge3\\envs\\mescore\\lib\\site-packages\\ipydatagrid\\datagrid.py:460: UserWarning: Index name of 'index' is not round-trippable.\n",
      "  schema = pd.io.json.build_table_schema(dataframe)\n"
     ]
    },
    {
     "data": {
      "application/vnd.jupyter.widget-view+json": {
       "model_id": "cffabdd5a2004c30878b170bd25a700b",
       "version_major": 2,
       "version_minor": 0
      },
      "text/plain": [
       "RFBOutputContext()"
      ]
     },
     "metadata": {},
     "output_type": "display_data"
    },
    {
     "name": "stderr",
     "output_type": "stream",
     "text": [
      "C:\\Users\\prsalab\\miniforge3\\envs\\mescore\\lib\\site-packages\\fastplotlib\\graphics\\_features\\_base.py:34: UserWarning: converting float64 array to float32\n",
      "  warn(f\"converting {array.dtype} array to float32\")\n"
     ]
    },
    {
     "data": {
      "application/vnd.jupyter.widget-view+json": {
       "model_id": "62c41d0ccf68417883fb45fdc32646d7",
       "version_major": 2,
       "version_minor": 0
      },
      "text/plain": [
       "VBox(children=(HBox(children=(DataGrid(auto_fit_params={'area': 'all', 'padding': 30, 'numCols': None}, base_r…"
      ]
     },
     "execution_count": 4,
     "metadata": {},
     "output_type": "execute_result"
    }
   ],
   "source": [
    "# inspect motion correction\n",
    "df.mcorr.viz().show()"
   ]
  },
  {
   "cell_type": "code",
   "execution_count": null,
   "id": "8989961b-0b52-455f-bebb-305327763f18",
   "metadata": {},
   "outputs": [],
   "source": [
    "# inspect neuron extraction\n",
    "df.cnmf.viz(image_data_options=[\"input\", \"rcm\"]).show()"
   ]
  }
 ],
 "metadata": {
  "kernelspec": {
   "display_name": "Python 3 (ipykernel)",
   "language": "python",
   "name": "python3"
  },
  "language_info": {
   "codemirror_mode": {
    "name": "ipython",
    "version": 3
   },
   "file_extension": ".py",
   "mimetype": "text/x-python",
   "name": "python",
   "nbconvert_exporter": "python",
   "pygments_lexer": "ipython3",
   "version": "3.10.8"
  }
 },
 "nbformat": 4,
 "nbformat_minor": 5
}
